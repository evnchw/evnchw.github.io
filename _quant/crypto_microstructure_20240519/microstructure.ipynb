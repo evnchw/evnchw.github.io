{
 "cells": [
  {
   "cell_type": "markdown",
   "id": "c2f06c8a-7bdc-4578-893e-569ad5226ba6",
   "metadata": {},
   "source": [
    "# Crypto microstructure roundup [5/19/24]\n",
    "\n",
    "This is an accompanying notebook for the blog post."
   ]
  },
  {
   "cell_type": "code",
   "execution_count": 37,
   "id": "9e6c6f91-6ab9-49f0-ae47-d70e3659a3f3",
   "metadata": {},
   "outputs": [],
   "source": [
    "from tqdm import tqdm\n",
    "import matplotlib.pyplot as plt\n",
    "import seaborn as sns\n",
    "import polars as pl\n",
    "import pandas as pd\n",
    "import numpy as np\n",
    "import os\n",
    "import glob\n",
    "pd.set_option(\"display.max_rows\", 5000)\n",
    "volume_path = \"/mnt/vol1\"\n",
    "\n",
    "\"\"\"\n",
    "Main parameters to change.\n",
    "Analysis will be for [START_DATE, END_DATE] inclusive.\n",
    "\"\"\"\n",
    "START_DATE = \"2024-05-12\"\n",
    "END_DATE = \"2024-05-19\""
   ]
  },
  {
   "cell_type": "markdown",
   "id": "876b1100-2d2a-4aaa-b942-74799ccf1a6e",
   "metadata": {},
   "source": [
    "## Read in data"
   ]
  },
  {
   "cell_type": "code",
   "execution_count": 35,
   "id": "5a407041-7000-42bf-b911-eb22bb31fba6",
   "metadata": {},
   "outputs": [
    {
     "name": "stderr",
     "output_type": "stream",
     "text": [
      "  0%|          | 0/8 [00:00<?, ?it/s]\n"
     ]
    },
    {
     "ename": "NameError",
     "evalue": "name 'os' is not defined",
     "output_type": "error",
     "traceback": [
      "\u001b[0;31m---------------------------------------------------------------------------\u001b[0m",
      "\u001b[0;31mNameError\u001b[0m                                 Traceback (most recent call last)",
      "Cell \u001b[0;32mIn[35], line 12\u001b[0m\n\u001b[1;32m      7\u001b[0m date_nodash \u001b[38;5;241m=\u001b[39m date\u001b[38;5;241m.\u001b[39mstrftime(\u001b[38;5;124m\"\u001b[39m\u001b[38;5;124m%\u001b[39m\u001b[38;5;124mY\u001b[39m\u001b[38;5;124m%\u001b[39m\u001b[38;5;124mm\u001b[39m\u001b[38;5;132;01m%d\u001b[39;00m\u001b[38;5;124m\"\u001b[39m)\n\u001b[1;32m      8\u001b[0m fp \u001b[38;5;241m=\u001b[39m (\n\u001b[1;32m      9\u001b[0m     \u001b[38;5;124mf\u001b[39m\u001b[38;5;124m\"\u001b[39m\u001b[38;5;132;01m{\u001b[39;00mvolume_path\u001b[38;5;132;01m}\u001b[39;00m\u001b[38;5;124m/bars/\u001b[39m\u001b[38;5;132;01m{\u001b[39;00mdate_nodash\u001b[38;5;132;01m}\u001b[39;00m\u001b[38;5;124m/incremental_book_l2/\u001b[39m\u001b[38;5;124m\"\u001b[39m \u001b[38;5;241m+\u001b[39m\n\u001b[1;32m     10\u001b[0m     \u001b[38;5;124mf\u001b[39m\u001b[38;5;124m\"\u001b[39m\u001b[38;5;124mcoinbase_incremental_book_l2_\u001b[39m\u001b[38;5;132;01m{\u001b[39;00mdate_nodash\u001b[38;5;132;01m}\u001b[39;00m\u001b[38;5;124m_btcusd__timebars_1min.parquet\u001b[39m\u001b[38;5;124m\"\u001b[39m\n\u001b[1;32m     11\u001b[0m )\n\u001b[0;32m---> 12\u001b[0m \u001b[38;5;28;01mif\u001b[39;00m \u001b[43mos\u001b[49m\u001b[38;5;241m.\u001b[39mpath\u001b[38;5;241m.\u001b[39mexists(fp):\n\u001b[1;32m     13\u001b[0m     df_raw \u001b[38;5;241m=\u001b[39m pl\u001b[38;5;241m.\u001b[39mread_parquet(fp)\n",
      "\u001b[0;31mNameError\u001b[0m: name 'os' is not defined"
     ]
    }
   ],
   "source": [
    "\"\"\"\n",
    "note: data is generated and stored via another project.\n",
    "\"\"\"\n",
    "\n",
    "df_raw = []\n",
    "for date in tqdm(pd.date_range(START_DATE, END_DATE)):\n",
    "    date_nodash = date.strftime(\"%Y%m%d\")\n",
    "    fp = (\n",
    "        f\"{volume_path}/bars/{date_nodash}/incremental_book_l2/\" +\n",
    "        f\"coinbase_incremental_book_l2_{date_nodash}_btcusd__timebars_1min.parquet\"\n",
    "    )\n",
    "    if os.path.exists(fp):\n",
    "        df_raw = pl.read_parquet(fp)"
   ]
  },
  {
   "cell_type": "code",
   "execution_count": null,
   "id": "187bac78-9c9c-4b60-8038-2a9abb6729df",
   "metadata": {},
   "outputs": [],
   "source": []
  }
 ],
 "metadata": {
  "kernelspec": {
   "display_name": "Python (evnchw)",
   "language": "python",
   "name": "evnchw"
  },
  "language_info": {
   "codemirror_mode": {
    "name": "ipython",
    "version": 3
   },
   "file_extension": ".py",
   "mimetype": "text/x-python",
   "name": "python",
   "nbconvert_exporter": "python",
   "pygments_lexer": "ipython3",
   "version": "3.10.12"
  }
 },
 "nbformat": 4,
 "nbformat_minor": 5
}
