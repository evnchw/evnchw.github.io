{
 "cells": [
  {
   "cell_type": "markdown",
   "id": "c2f06c8a-7bdc-4578-893e-569ad5226ba6",
   "metadata": {},
   "source": [
    "# Crypto microstructure roundup [5/19/24]\n",
    "\n",
    "This is an accompanying notebook for the blog post."
   ]
  },
  {
   "cell_type": "code",
   "execution_count": 47,
   "id": "9e6c6f91-6ab9-49f0-ae47-d70e3659a3f3",
   "metadata": {},
   "outputs": [],
   "source": [
    "from tqdm import tqdm\n",
    "import matplotlib.pyplot as plt\n",
    "import seaborn as sns\n",
    "import polars as pl\n",
    "import pandas as pd\n",
    "import numpy as np\n",
    "import os\n",
    "import glob\n",
    "pd.set_option(\"display.max_rows\", 5000)\n",
    "pd.set_option(\"display.max_columns\", 5000)\n",
    "volume_path = \"/mnt/vol1\"\n",
    "plt_kwargs = { \"grid\": True, \"figsize\": (12,5) }\n",
    "\n",
    "\"\"\"\n",
    "Main parameters to change.\n",
    "Analysis will be for [START_DATE, END_DATE] inclusive.\n",
    "\"\"\"\n",
    "START_DATE = \"2024-05-12\"\n",
    "END_DATE = \"2024-05-19\""
   ]
  },
  {
   "cell_type": "markdown",
   "id": "876b1100-2d2a-4aaa-b942-74799ccf1a6e",
   "metadata": {},
   "source": [
    "## Read in data"
   ]
  },
  {
   "cell_type": "code",
   "execution_count": 39,
   "id": "5a407041-7000-42bf-b911-eb22bb31fba6",
   "metadata": {},
   "outputs": [
    {
     "name": "stderr",
     "output_type": "stream",
     "text": [
      "100%|██████████| 8/8 [00:00<00:00, 69.02it/s]\n"
     ]
    }
   ],
   "source": [
    "\"\"\"\n",
    "note: data is generated and stored via another project.\n",
    "\"\"\"\n",
    "\n",
    "df_raw = []\n",
    "for date in tqdm(pd.date_range(START_DATE, END_DATE)):\n",
    "    date_nodash = date.strftime(\"%Y%m%d\")\n",
    "    fp = (\n",
    "        f\"{volume_path}/bars/{date_nodash}/incremental_book_l2/\" +\n",
    "        f\"coinbase_incremental_book_l2_{date_nodash}_btcusd__timebars_1min.parquet\"\n",
    "    )\n",
    "    if os.path.exists(fp):\n",
    "        df_raw = pl.read_parquet(fp)"
   ]
  },
  {
   "cell_type": "code",
   "execution_count": 49,
   "id": "47ce27d9-f2d7-411c-b5ac-5eb7a14c3f6c",
   "metadata": {},
   "outputs": [
    {
     "ename": "ModuleUpgradeRequired",
     "evalue": "hvplot>=0.9.1 is required for `.plot`",
     "output_type": "error",
     "traceback": [
      "\u001b[0;31m---------------------------------------------------------------------------\u001b[0m",
      "\u001b[0;31mModuleUpgradeRequired\u001b[0m                     Traceback (most recent call last)",
      "\u001b[0;32m/tmp/ipykernel_1611276/2690333351.py\u001b[0m in \u001b[0;36m?\u001b[0;34m()\u001b[0m\n\u001b[0;32m----> 1\u001b[0;31m \u001b[0mdf_raw\u001b[0m\u001b[0;34m.\u001b[0m\u001b[0mpivot\u001b[0m\u001b[0;34m(\u001b[0m\u001b[0mindex\u001b[0m\u001b[0;34m=\u001b[0m\u001b[0;34m'bar_start'\u001b[0m\u001b[0;34m,\u001b[0m \u001b[0mcolumns\u001b[0m\u001b[0;34m=\u001b[0m\u001b[0;34m'side'\u001b[0m\u001b[0;34m,\u001b[0m \u001b[0mvalues\u001b[0m\u001b[0;34m=\u001b[0m\u001b[0;34m'vwap'\u001b[0m\u001b[0;34m)\u001b[0m\u001b[0;34m.\u001b[0m\u001b[0mplot\u001b[0m\u001b[0;34m(\u001b[0m\u001b[0;34m**\u001b[0m\u001b[0mplt_kwargs\u001b[0m\u001b[0;34m)\u001b[0m\u001b[0;34m\u001b[0m\u001b[0;34m\u001b[0m\u001b[0m\n\u001b[0m",
      "\u001b[0;32m~/jupyterlab/evnchw.github.io/.venv/lib/python3.10/site-packages/polars/dataframe/frame.py\u001b[0m in \u001b[0;36m?\u001b[0;34m(self)\u001b[0m\n\u001b[1;32m    583\u001b[0m         if not _HVPLOT_AVAILABLE or parse_version(hvplot.__version__) < parse_version(\n\u001b[1;32m    584\u001b[0m             \u001b[0;34m\"0.9.1\"\u001b[0m\u001b[0;34m\u001b[0m\u001b[0;34m\u001b[0m\u001b[0m\n\u001b[1;32m    585\u001b[0m         ):\n\u001b[1;32m    586\u001b[0m             \u001b[0mmsg\u001b[0m \u001b[0;34m=\u001b[0m \u001b[0;34m\"hvplot>=0.9.1 is required for `.plot`\"\u001b[0m\u001b[0;34m\u001b[0m\u001b[0;34m\u001b[0m\u001b[0m\n\u001b[0;32m--> 587\u001b[0;31m             \u001b[0;32mraise\u001b[0m \u001b[0mModuleUpgradeRequired\u001b[0m\u001b[0;34m(\u001b[0m\u001b[0mmsg\u001b[0m\u001b[0;34m)\u001b[0m\u001b[0;34m\u001b[0m\u001b[0;34m\u001b[0m\u001b[0m\n\u001b[0m\u001b[1;32m    588\u001b[0m         \u001b[0mhvplot\u001b[0m\u001b[0;34m.\u001b[0m\u001b[0mpost_patch\u001b[0m\u001b[0;34m(\u001b[0m\u001b[0;34m)\u001b[0m\u001b[0;34m\u001b[0m\u001b[0;34m\u001b[0m\u001b[0m\n\u001b[1;32m    589\u001b[0m         \u001b[0;32mreturn\u001b[0m \u001b[0mhvplot\u001b[0m\u001b[0;34m.\u001b[0m\u001b[0mplotting\u001b[0m\u001b[0;34m.\u001b[0m\u001b[0mcore\u001b[0m\u001b[0;34m.\u001b[0m\u001b[0mhvPlotTabularPolars\u001b[0m\u001b[0;34m(\u001b[0m\u001b[0mself\u001b[0m\u001b[0;34m)\u001b[0m\u001b[0;34m\u001b[0m\u001b[0;34m\u001b[0m\u001b[0m\n",
      "\u001b[0;31mModuleUpgradeRequired\u001b[0m: hvplot>=0.9.1 is required for `.plot`"
     ]
    }
   ],
   "source": [
    "df_raw.pivot(index='bar_start', columns='side', values='vwap').plot(**plt_kwargs)"
   ]
  },
  {
   "cell_type": "code",
   "execution_count": null,
   "id": "2a7e5cdb-ea0d-421c-af14-b1965e7a0852",
   "metadata": {},
   "outputs": [],
   "source": []
  }
 ],
 "metadata": {
  "kernelspec": {
   "display_name": "Python (evnchw)",
   "language": "python",
   "name": "evnchw"
  },
  "language_info": {
   "codemirror_mode": {
    "name": "ipython",
    "version": 3
   },
   "file_extension": ".py",
   "mimetype": "text/x-python",
   "name": "python",
   "nbconvert_exporter": "python",
   "pygments_lexer": "ipython3",
   "version": "3.10.12"
  }
 },
 "nbformat": 4,
 "nbformat_minor": 5
}
