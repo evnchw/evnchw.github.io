{
 "cells": [
  {
   "cell_type": "markdown",
   "id": "c2f06c8a-7bdc-4578-893e-569ad5226ba6",
   "metadata": {},
   "source": [
    "# Notebook\n",
    "\n",
    "This is an accompanying notebook for the blog post.\n",
    "\n",
    "At least part of this notebook can be converted to reusable code to generate the market microstructure summary analytics every week."
   ]
  },
  {
   "cell_type": "code",
   "execution_count": 14,
   "id": "9e6c6f91-6ab9-49f0-ae47-d70e3659a3f3",
   "metadata": {},
   "outputs": [],
   "source": [
    "from tqdm import tqdm\n",
    "import matplotlib.pyplot as plt\n",
    "import seaborn as sns\n",
    "import polars as pl\n",
    "import pandas as pd\n",
    "import numpy as np\n",
    "import os\n",
    "import glob\n",
    "pd.set_option(\"display.max_rows\", 5000)\n",
    "pd.set_option(\"display.max_columns\", 5000)\n",
    "volume_path = \"/mnt/vol1\"\n",
    "plt_kwargs = { \"grid\": True, \"figsize\": (12,5) }\n",
    "\n",
    "\"\"\"\n",
    "Main parameters to change.\n",
    "Analysis will be for [START_DATE, END_DATE] inclusive.\n",
    "\"\"\"\n",
    "START_DATE = \"2024-05-12\"\n",
    "END_DATE = \"2024-05-19\""
   ]
  },
  {
   "cell_type": "markdown",
   "id": "876b1100-2d2a-4aaa-b942-74799ccf1a6e",
   "metadata": {},
   "source": [
    "## Read in data"
   ]
  },
  {
   "cell_type": "code",
   "execution_count": 7,
   "id": "5a407041-7000-42bf-b911-eb22bb31fba6",
   "metadata": {},
   "outputs": [
    {
     "name": "stderr",
     "output_type": "stream",
     "text": [
      "100%|██████████| 8/8 [00:00<00:00, 2035.08it/s]\n"
     ]
    }
   ],
   "source": [
    "\"\"\"\n",
    "Note: data is generated and stored via another project.\n",
    "\"\"\"\n",
    "\n",
    "df_raw = []\n",
    "for date in tqdm(pd.date_range(START_DATE, END_DATE)):\n",
    "    date_nodash = date.strftime(\"%Y%m%d\")\n",
    "    fp = (\n",
    "        f\"{volume_path}/bars/{date_nodash}/incremental_book_l2/\" +\n",
    "        f\"coinbase_incremental_book_l2_{date_nodash}_btcusd__timebars_1min.parquet\"\n",
    "    )\n",
    "    if os.path.exists(fp):\n",
    "        df_raw = pl.read_parquet(fp)"
   ]
  },
  {
   "cell_type": "code",
   "execution_count": 13,
   "id": "47ce27d9-f2d7-411c-b5ac-5eb7a14c3f6c",
   "metadata": {},
   "outputs": [
    {
     "name": "stderr",
     "output_type": "stream",
     "text": [
      "WARNING:param.main: hvPlot does not have the concept of a figure, and the figsize keyword will be ignored. The size of each subplot in a layout is set individually using the width and height options.\n"
     ]
    },
    {
     "data": {},
     "metadata": {},
     "output_type": "display_data"
    },
    {
     "data": {
      "application/vnd.holoviews_exec.v0+json": "",
      "text/html": [
       "<div id='p1403'>\n",
       "  <div id=\"b613adb6-8b75-4450-9f43-ec12738673c8\" data-root-id=\"p1403\" style=\"display: contents;\"></div>\n",
       "</div>\n",
       "<script type=\"application/javascript\">(function(root) {\n",
       "  var docs_json = {\"271bff62-3653-4101-9bcd-026b6d03535d\":{\"version\":\"3.4.1\",\"title\":\"Bokeh Application\",\"roots\":[{\"type\":\"object\",\"name\":\"Row\",\"id\":\"p1403\",\"attributes\":{\"name\":\"Row01721\",\"tags\":[\"embedded\"],\"stylesheets\":[\"\\n:host(.pn-loading):before, .pn-loading:before {\\n  background-color: #c3c3c3;\\n  mask-size: auto calc(min(50%, 400px));\\n  -webkit-mask-size: auto calc(min(50%, 400px));\\n}\",{\"type\":\"object\",\"name\":\"ImportedStyleSheet\",\"id\":\"p1406\",\"attributes\":{\"url\":\"https://cdn.holoviz.org/panel/1.4.2/dist/css/loading.css\"}},{\"type\":\"object\",\"name\":\"ImportedStyleSheet\",\"id\":\"p1462\",\"attributes\":{\"url\":\"https://cdn.holoviz.org/panel/1.4.2/dist/css/listpanel.css\"}},{\"type\":\"object\",\"name\":\"ImportedStyleSheet\",\"id\":\"p1404\",\"attributes\":{\"url\":\"https://cdn.holoviz.org/panel/1.4.2/dist/bundled/theme/default.css\"}},{\"type\":\"object\",\"name\":\"ImportedStyleSheet\",\"id\":\"p1405\",\"attributes\":{\"url\":\"https://cdn.holoviz.org/panel/1.4.2/dist/bundled/theme/native.css\"}}],\"min_width\":700,\"margin\":0,\"sizing_mode\":\"stretch_width\",\"align\":\"start\",\"children\":[{\"type\":\"object\",\"name\":\"Spacer\",\"id\":\"p1407\",\"attributes\":{\"name\":\"HSpacer01728\",\"stylesheets\":[\"\\n:host(.pn-loading):before, .pn-loading:before {\\n  background-color: #c3c3c3;\\n  mask-size: auto calc(min(50%, 400px));\\n  -webkit-mask-size: auto calc(min(50%, 400px));\\n}\",{\"id\":\"p1406\"},{\"id\":\"p1404\"},{\"id\":\"p1405\"}],\"margin\":0,\"sizing_mode\":\"stretch_width\",\"align\":\"start\"}},{\"type\":\"object\",\"name\":\"Figure\",\"id\":\"p1415\",\"attributes\":{\"width\":700,\"height\":300,\"margin\":[5,10],\"sizing_mode\":\"fixed\",\"align\":\"start\",\"x_range\":{\"type\":\"object\",\"name\":\"Range1d\",\"id\":\"p1408\",\"attributes\":{\"tags\":[[[\"index\",\"index\",null]],[]],\"end\":1439.0,\"reset_start\":0.0,\"reset_end\":1439.0}},\"y_range\":{\"type\":\"object\",\"name\":\"Range1d\",\"id\":\"p1409\",\"attributes\":{\"tags\":[[[\"ask\",\"ask\",null]],{\"type\":\"map\",\"entries\":[[\"invert_yaxis\",false],[\"autorange\",false]]}],\"start\":64393.201,\"end\":66817.789,\"reset_start\":64393.201,\"reset_end\":66817.789}},\"x_scale\":{\"type\":\"object\",\"name\":\"LinearScale\",\"id\":\"p1425\"},\"y_scale\":{\"type\":\"object\",\"name\":\"LinearScale\",\"id\":\"p1426\"},\"title\":{\"type\":\"object\",\"name\":\"Title\",\"id\":\"p1418\",\"attributes\":{\"text\":\"ask\",\"text_color\":\"black\",\"text_font_size\":\"12pt\"}},\"renderers\":[{\"type\":\"object\",\"name\":\"GlyphRenderer\",\"id\":\"p1455\",\"attributes\":{\"data_source\":{\"type\":\"object\",\"name\":\"ColumnDataSource\",\"id\":\"p1446\",\"attributes\":{\"selected\":{\"type\":\"object\",\"name\":\"Selection\",\"id\":\"p1447\",\"attributes\":{\"indices\":[],\"line_indices\":[]}},\"selection_policy\":{\"type\":\"object\",\"name\":\"UnionRenderers\",\"id\":\"p1448\"},\"data\":{\"type\":\"map\",\"entries\":[[\"index\",{\"type\":\"ndarray\",\"array\":{\"type\":\"bytes\",\"data\":\"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\"},\"shape\":[1440],\"dtype\":\"int32\",\"order\":\"little\"}],[\"ask\",{\"type\":\"ndarray\",\"array\":{\"type\":\"bytes\",\"data\":\"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\"},\"shape\":[1440],\"dtype\":\"float64\",\"order\":\"little\"}]]}}},\"view\":{\"type\":\"object\",\"name\":\"CDSView\",\"id\":\"p1456\",\"attributes\":{\"filter\":{\"type\":\"object\",\"name\":\"AllIndices\",\"id\":\"p1457\"}}},\"glyph\":{\"type\":\"object\",\"name\":\"Line\",\"id\":\"p1452\",\"attributes\":{\"tags\":[\"apply_ranges\"],\"x\":{\"type\":\"field\",\"field\":\"index\"},\"y\":{\"type\":\"field\",\"field\":\"ask\"},\"line_color\":\"#30a2da\",\"line_width\":2}},\"selection_glyph\":{\"type\":\"object\",\"name\":\"Line\",\"id\":\"p1458\",\"attributes\":{\"tags\":[\"apply_ranges\"],\"x\":{\"type\":\"field\",\"field\":\"index\"},\"y\":{\"type\":\"field\",\"field\":\"ask\"},\"line_color\":\"#30a2da\",\"line_width\":2}},\"nonselection_glyph\":{\"type\":\"object\",\"name\":\"Line\",\"id\":\"p1453\",\"attributes\":{\"tags\":[\"apply_ranges\"],\"x\":{\"type\":\"field\",\"field\":\"index\"},\"y\":{\"type\":\"field\",\"field\":\"ask\"},\"line_color\":\"#30a2da\",\"line_alpha\":0.1,\"line_width\":2}},\"muted_glyph\":{\"type\":\"object\",\"name\":\"Line\",\"id\":\"p1454\",\"attributes\":{\"tags\":[\"apply_ranges\"],\"x\":{\"type\":\"field\",\"field\":\"index\"},\"y\":{\"type\":\"field\",\"field\":\"ask\"},\"line_color\":\"#30a2da\",\"line_alpha\":0.2,\"line_width\":2}}}}],\"toolbar\":{\"type\":\"object\",\"name\":\"Toolbar\",\"id\":\"p1424\",\"attributes\":{\"tools\":[{\"type\":\"object\",\"name\":\"WheelZoomTool\",\"id\":\"p1413\",\"attributes\":{\"tags\":[\"hv_created\"],\"renderers\":\"auto\",\"zoom_together\":\"none\"}},{\"type\":\"object\",\"name\":\"HoverTool\",\"id\":\"p1414\",\"attributes\":{\"tags\":[\"hv_created\"],\"renderers\":[{\"id\":\"p1455\"}],\"tooltips\":[[\"index\",\"@{index}\"],[\"ask\",\"@{ask}\"]]}},{\"type\":\"object\",\"name\":\"SaveTool\",\"id\":\"p1437\"},{\"type\":\"object\",\"name\":\"PanTool\",\"id\":\"p1438\"},{\"type\":\"object\",\"name\":\"BoxZoomTool\",\"id\":\"p1439\",\"attributes\":{\"overlay\":{\"type\":\"object\",\"name\":\"BoxAnnotation\",\"id\":\"p1440\",\"attributes\":{\"syncable\":false,\"level\":\"overlay\",\"visible\":false,\"left\":{\"type\":\"number\",\"value\":\"nan\"},\"right\":{\"type\":\"number\",\"value\":\"nan\"},\"top\":{\"type\":\"number\",\"value\":\"nan\"},\"bottom\":{\"type\":\"number\",\"value\":\"nan\"},\"left_units\":\"canvas\",\"right_units\":\"canvas\",\"top_units\":\"canvas\",\"bottom_units\":\"canvas\",\"line_color\":\"black\",\"line_alpha\":1.0,\"line_width\":2,\"line_dash\":[4,4],\"fill_color\":\"lightgrey\",\"fill_alpha\":0.5}}}},{\"type\":\"object\",\"name\":\"ResetTool\",\"id\":\"p1445\"}],\"active_drag\":{\"id\":\"p1438\"},\"active_scroll\":{\"id\":\"p1413\"}}},\"left\":[{\"type\":\"object\",\"name\":\"LinearAxis\",\"id\":\"p1432\",\"attributes\":{\"ticker\":{\"type\":\"object\",\"name\":\"BasicTicker\",\"id\":\"p1433\",\"attributes\":{\"mantissas\":[1,2,5]}},\"formatter\":{\"type\":\"object\",\"name\":\"BasicTickFormatter\",\"id\":\"p1434\"},\"axis_label\":\"\",\"major_label_policy\":{\"type\":\"object\",\"name\":\"AllLabels\",\"id\":\"p1435\"}}}],\"below\":[{\"type\":\"object\",\"name\":\"LinearAxis\",\"id\":\"p1427\",\"attributes\":{\"ticker\":{\"type\":\"object\",\"name\":\"BasicTicker\",\"id\":\"p1428\",\"attributes\":{\"mantissas\":[1,2,5]}},\"formatter\":{\"type\":\"object\",\"name\":\"BasicTickFormatter\",\"id\":\"p1429\"},\"axis_label\":\"\",\"major_label_policy\":{\"type\":\"object\",\"name\":\"AllLabels\",\"id\":\"p1430\"}}}],\"center\":[{\"type\":\"object\",\"name\":\"Grid\",\"id\":\"p1431\",\"attributes\":{\"axis\":{\"id\":\"p1427\"},\"ticker\":{\"id\":\"p1428\"}}},{\"type\":\"object\",\"name\":\"Grid\",\"id\":\"p1436\",\"attributes\":{\"dimension\":1,\"axis\":{\"id\":\"p1432\"},\"ticker\":{\"id\":\"p1433\"}}}],\"min_border_top\":10,\"min_border_bottom\":10,\"min_border_left\":10,\"min_border_right\":10,\"output_backend\":\"webgl\"}},{\"type\":\"object\",\"name\":\"Spacer\",\"id\":\"p1460\",\"attributes\":{\"name\":\"HSpacer01729\",\"stylesheets\":[\"\\n:host(.pn-loading):before, .pn-loading:before {\\n  background-color: #c3c3c3;\\n  mask-size: auto calc(min(50%, 400px));\\n  -webkit-mask-size: auto calc(min(50%, 400px));\\n}\",{\"id\":\"p1406\"},{\"id\":\"p1404\"},{\"id\":\"p1405\"}],\"margin\":0,\"sizing_mode\":\"stretch_width\",\"align\":\"start\"}}]}}],\"defs\":[{\"type\":\"model\",\"name\":\"ReactiveHTML1\"},{\"type\":\"model\",\"name\":\"FlexBox1\",\"properties\":[{\"name\":\"align_content\",\"kind\":\"Any\",\"default\":\"flex-start\"},{\"name\":\"align_items\",\"kind\":\"Any\",\"default\":\"flex-start\"},{\"name\":\"flex_direction\",\"kind\":\"Any\",\"default\":\"row\"},{\"name\":\"flex_wrap\",\"kind\":\"Any\",\"default\":\"wrap\"},{\"name\":\"gap\",\"kind\":\"Any\",\"default\":\"\"},{\"name\":\"justify_content\",\"kind\":\"Any\",\"default\":\"flex-start\"}]},{\"type\":\"model\",\"name\":\"FloatPanel1\",\"properties\":[{\"name\":\"config\",\"kind\":\"Any\",\"default\":{\"type\":\"map\"}},{\"name\":\"contained\",\"kind\":\"Any\",\"default\":true},{\"name\":\"position\",\"kind\":\"Any\",\"default\":\"right-top\"},{\"name\":\"offsetx\",\"kind\":\"Any\",\"default\":null},{\"name\":\"offsety\",\"kind\":\"Any\",\"default\":null},{\"name\":\"theme\",\"kind\":\"Any\",\"default\":\"primary\"},{\"name\":\"status\",\"kind\":\"Any\",\"default\":\"normalized\"}]},{\"type\":\"model\",\"name\":\"GridStack1\",\"properties\":[{\"name\":\"mode\",\"kind\":\"Any\",\"default\":\"warn\"},{\"name\":\"ncols\",\"kind\":\"Any\",\"default\":null},{\"name\":\"nrows\",\"kind\":\"Any\",\"default\":null},{\"name\":\"allow_resize\",\"kind\":\"Any\",\"default\":true},{\"name\":\"allow_drag\",\"kind\":\"Any\",\"default\":true},{\"name\":\"state\",\"kind\":\"Any\",\"default\":[]}]},{\"type\":\"model\",\"name\":\"drag1\",\"properties\":[{\"name\":\"slider_width\",\"kind\":\"Any\",\"default\":5},{\"name\":\"slider_color\",\"kind\":\"Any\",\"default\":\"black\"},{\"name\":\"value\",\"kind\":\"Any\",\"default\":50}]},{\"type\":\"model\",\"name\":\"click1\",\"properties\":[{\"name\":\"terminal_output\",\"kind\":\"Any\",\"default\":\"\"},{\"name\":\"debug_name\",\"kind\":\"Any\",\"default\":\"\"},{\"name\":\"clears\",\"kind\":\"Any\",\"default\":0}]},{\"type\":\"model\",\"name\":\"FastWrapper1\",\"properties\":[{\"name\":\"object\",\"kind\":\"Any\",\"default\":null},{\"name\":\"style\",\"kind\":\"Any\",\"default\":null}]},{\"type\":\"model\",\"name\":\"NotificationAreaBase1\",\"properties\":[{\"name\":\"js_events\",\"kind\":\"Any\",\"default\":{\"type\":\"map\"}},{\"name\":\"position\",\"kind\":\"Any\",\"default\":\"bottom-right\"},{\"name\":\"_clear\",\"kind\":\"Any\",\"default\":0}]},{\"type\":\"model\",\"name\":\"NotificationArea1\",\"properties\":[{\"name\":\"js_events\",\"kind\":\"Any\",\"default\":{\"type\":\"map\"}},{\"name\":\"notifications\",\"kind\":\"Any\",\"default\":[]},{\"name\":\"position\",\"kind\":\"Any\",\"default\":\"bottom-right\"},{\"name\":\"_clear\",\"kind\":\"Any\",\"default\":0},{\"name\":\"types\",\"kind\":\"Any\",\"default\":[{\"type\":\"map\",\"entries\":[[\"type\",\"warning\"],[\"background\",\"#ffc107\"],[\"icon\",{\"type\":\"map\",\"entries\":[[\"className\",\"fas fa-exclamation-triangle\"],[\"tagName\",\"i\"],[\"color\",\"white\"]]}]]},{\"type\":\"map\",\"entries\":[[\"type\",\"info\"],[\"background\",\"#007bff\"],[\"icon\",{\"type\":\"map\",\"entries\":[[\"className\",\"fas fa-info-circle\"],[\"tagName\",\"i\"],[\"color\",\"white\"]]}]]}]}]},{\"type\":\"model\",\"name\":\"Notification\",\"properties\":[{\"name\":\"background\",\"kind\":\"Any\",\"default\":null},{\"name\":\"duration\",\"kind\":\"Any\",\"default\":3000},{\"name\":\"icon\",\"kind\":\"Any\",\"default\":null},{\"name\":\"message\",\"kind\":\"Any\",\"default\":\"\"},{\"name\":\"notification_type\",\"kind\":\"Any\",\"default\":null},{\"name\":\"_destroyed\",\"kind\":\"Any\",\"default\":false}]},{\"type\":\"model\",\"name\":\"TemplateActions1\",\"properties\":[{\"name\":\"open_modal\",\"kind\":\"Any\",\"default\":0},{\"name\":\"close_modal\",\"kind\":\"Any\",\"default\":0}]},{\"type\":\"model\",\"name\":\"BootstrapTemplateActions1\",\"properties\":[{\"name\":\"open_modal\",\"kind\":\"Any\",\"default\":0},{\"name\":\"close_modal\",\"kind\":\"Any\",\"default\":0}]},{\"type\":\"model\",\"name\":\"TemplateEditor1\",\"properties\":[{\"name\":\"layout\",\"kind\":\"Any\",\"default\":[]}]},{\"type\":\"model\",\"name\":\"MaterialTemplateActions1\",\"properties\":[{\"name\":\"open_modal\",\"kind\":\"Any\",\"default\":0},{\"name\":\"close_modal\",\"kind\":\"Any\",\"default\":0}]},{\"type\":\"model\",\"name\":\"copy_to_clipboard1\",\"properties\":[{\"name\":\"fill\",\"kind\":\"Any\",\"default\":\"none\"},{\"name\":\"value\",\"kind\":\"Any\",\"default\":null}]}]}};\n",
       "  var render_items = [{\"docid\":\"271bff62-3653-4101-9bcd-026b6d03535d\",\"roots\":{\"p1403\":\"b613adb6-8b75-4450-9f43-ec12738673c8\"},\"root_ids\":[\"p1403\"]}];\n",
       "  var docs = Object.values(docs_json)\n",
       "  if (!docs) {\n",
       "    return\n",
       "  }\n",
       "  const py_version = docs[0].version.replace('rc', '-rc.').replace('.dev', '-dev.')\n",
       "  function embed_document(root) {\n",
       "    var Bokeh = get_bokeh(root)\n",
       "    Bokeh.embed.embed_items_notebook(docs_json, render_items);\n",
       "    for (const render_item of render_items) {\n",
       "      for (const root_id of render_item.root_ids) {\n",
       "\tconst id_el = document.getElementById(root_id)\n",
       "\tif (id_el.children.length && (id_el.children[0].className === 'bk-root')) {\n",
       "\t  const root_el = id_el.children[0]\n",
       "\t  root_el.id = root_el.id + '-rendered'\n",
       "\t}\n",
       "      }\n",
       "    }\n",
       "  }\n",
       "  function get_bokeh(root) {\n",
       "    if (root.Bokeh === undefined) {\n",
       "      return null\n",
       "    } else if (root.Bokeh.version !== py_version) {\n",
       "      if (root.Bokeh.versions === undefined || !root.Bokeh.versions.has(py_version)) {\n",
       "\treturn null\n",
       "      }\n",
       "      return root.Bokeh.versions.get(py_version);\n",
       "    } else if (root.Bokeh.version === py_version) {\n",
       "      return root.Bokeh\n",
       "    }\n",
       "    return null\n",
       "  }\n",
       "  function is_loaded(root) {\n",
       "    var Bokeh = get_bokeh(root)\n",
       "    return (Bokeh != null && Bokeh.Panel !== undefined)\n",
       "  }\n",
       "  if (is_loaded(root)) {\n",
       "    embed_document(root);\n",
       "  } else {\n",
       "    var attempts = 0;\n",
       "    var timer = setInterval(function(root) {\n",
       "      if (is_loaded(root)) {\n",
       "        clearInterval(timer);\n",
       "        embed_document(root);\n",
       "      } else if (document.readyState == \"complete\") {\n",
       "        attempts++;\n",
       "        if (attempts > 200) {\n",
       "          clearInterval(timer);\n",
       "\t  var Bokeh = get_bokeh(root)\n",
       "\t  if (Bokeh == null || Bokeh.Panel == null) {\n",
       "            console.warn(\"Panel: ERROR: Unable to run Panel code because Bokeh or Panel library is missing\");\n",
       "\t  } else {\n",
       "\t    console.warn(\"Panel: WARNING: Attempting to render but not all required libraries could be resolved.\")\n",
       "\t    embed_document(root)\n",
       "\t  }\n",
       "        }\n",
       "      }\n",
       "    }, 25, root)\n",
       "  }\n",
       "})(window);</script>"
      ],
      "text/plain": [
       ":Curve   [index]   (ask)"
      ]
     },
     "execution_count": 13,
     "metadata": {
      "application/vnd.holoviews_exec.v0+json": {
       "id": "p1403"
      }
     },
     "output_type": "execute_result"
    }
   ],
   "source": [
    "df_raw.pivot(index='bar_start', columns='side', values='price__low')['ask'].plot(**plt_kwargs)\n",
    "# df_raw.pivot(index='bar_start', columns='side', values='price__high')['bid'].plot(**plt_kwargs)"
   ]
  },
  {
   "cell_type": "code",
   "execution_count": null,
   "id": "2a7e5cdb-ea0d-421c-af14-b1965e7a0852",
   "metadata": {},
   "outputs": [],
   "source": []
  }
 ],
 "metadata": {
  "kernelspec": {
   "display_name": "Python (evnchw)",
   "language": "python",
   "name": "evnchw"
  },
  "language_info": {
   "codemirror_mode": {
    "name": "ipython",
    "version": 3
   },
   "file_extension": ".py",
   "mimetype": "text/x-python",
   "name": "python",
   "nbconvert_exporter": "python",
   "pygments_lexer": "ipython3",
   "version": "3.10.12"
  }
 },
 "nbformat": 4,
 "nbformat_minor": 5
}
